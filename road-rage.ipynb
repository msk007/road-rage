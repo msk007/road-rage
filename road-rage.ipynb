{
 "cells": [
  {
   "cell_type": "code",
   "execution_count": 22,
   "metadata": {
    "collapsed": false
   },
   "outputs": [],
   "source": [
    "import math\n",
    "import matplotlib.pyplot as plt\n",
    "import numpy\n",
    "import statistics as st\n",
    "import random"
   ]
  },
  {
   "cell_type": "code",
   "execution_count": 23,
   "metadata": {
    "collapsed": false
   },
   "outputs": [],
   "source": [
    "class Car:\n",
    "# \"\"\"\n",
    "# Responsibilities:\n",
    "#     -measure velocity(min, max,rate) im meters, meters per second.\n",
    "#     -measure distance traveled and position(start,end,clock)\n",
    "#     -car size\n",
    "#     -number of cars\n",
    "    \n",
    "#         \"\"\"\n",
    "    def __init__(self, min_speed = 0, max_speed = 30, length = 5, location = 0, clock = 0):\n",
    "        self.min_speed = min_speed\n",
    "        self.max_speed = max_speed\n",
    "        self.length = length\n",
    "        self.location= location\n",
    "        self.clock = clock\n",
    "        self.speed = self.max_speed\n",
    "\n",
    "class Porsche(Car):\n",
    "    def change_speed(self, accel = 2 , brake_chance = .1):\n",
    "        self.accel = accel\n",
    "        self.brake_chance = brake_chance\n",
    "        \n",
    "    \n",
    "    def move(self):\n",
    "        self.location += self.speed\n",
    "        if self.location >= 1000:\n",
    "            self.location = self.location % 1000\n",
    "        return self.location\n",
    "        \n",
    "        \n",
    "        "
   ]
  },
  {
   "cell_type": "code",
   "execution_count": 24,
   "metadata": {
    "collapsed": false
   },
   "outputs": [],
   "source": [
    "class Road:\n",
    "# +Responsibilities-\n",
    "# -hold cars \n",
    "# -define road length\n",
    "# -control speed triggers\n",
    "     def __init__(self, top_speed=120, total_cars = 30, length = 1000):\n",
    "        self.top_speed = top_speed\n",
    "        self.length = length\n",
    "        total_cars =30\n",
    "        self.vehicles = [self.place_car(loc*length//total_cars) for location in range(total_cars*length//1000)]\n",
    "     \n",
    "     def place_car(self):\n",
    "        placement = 0\n",
    "        for Porche in self.Car:\n",
    "            car.location = placement\n",
    "            placement += 30"
   ]
  },
  {
   "cell_type": "code",
   "execution_count": null,
   "metadata": {
    "collapsed": true
   },
   "outputs": [],
   "source": []
  },
  {
   "cell_type": "code",
   "execution_count": null,
   "metadata": {
    "collapsed": true
   },
   "outputs": [],
   "source": []
  }
 ],
 "metadata": {
  "kernelspec": {
   "display_name": "Python 3",
   "language": "python",
   "name": "python3"
  },
  "language_info": {
   "codemirror_mode": {
    "name": "ipython",
    "version": 3
   },
   "file_extension": ".py",
   "mimetype": "text/x-python",
   "name": "python",
   "nbconvert_exporter": "python",
   "pygments_lexer": "ipython3",
   "version": "3.4.3"
  }
 },
 "nbformat": 4,
 "nbformat_minor": 0
}
