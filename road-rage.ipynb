{
 "cells": [
  {
   "cell_type": "code",
   "execution_count": 1,
   "metadata": {
    "collapsed": false
   },
   "outputs": [],
   "source": [
    "import math\n",
    "import matplotlib.pyplot as plt\n",
    "import numpy\n",
    "import statistics as st\n",
    "import random"
   ]
  },
  {
   "cell_type": "code",
   "execution_count": 2,
   "metadata": {
    "collapsed": false
   },
   "outputs": [],
   "source": [
    "class Car():\n",
    "# \"\"\"\n",
    "# Responsibilities:\n",
    "#     -measure velocity(min, max,rate) im meters, meters per second.\n",
    "#     -measure distance traveled and position(start,end,clock)\n",
    "#     -car size\n",
    "#     -number of cars\n",
    "    \n",
    "#         \"\"\"\n",
    "    def __init__(self, min_speed = 0, max_speed = 30, length = 5, location = 0, total_cars = 30):\n",
    "        self.min_speed = min_speed\n",
    "        self.max_speed = max_speed\n",
    "        self.length = length\n",
    "        self.location= location\n",
    "        self.total_cars =total_cars\n",
    "        self.speed = self.max_speed\n",
    "\n",
    "\n",
    "        \n",
    "    \n",
    "    \n",
    "    \n",
    "        \n",
    "    "
   ]
  },
  {
   "cell_type": "code",
   "execution_count": null,
   "metadata": {
    "collapsed": false
   },
   "outputs": [],
   "source": [
    "\n"
   ]
  },
  {
   "cell_type": "code",
   "execution_count": 3,
   "metadata": {
    "collapsed": false
   },
   "outputs": [],
   "source": [
    "class Road:\n",
    "# +Responsibilities-\n",
    "# -hold cars \n",
    "# -define road length\n",
    "# -control speed triggers\n",
    "     def __init__(self, total_cars = 30, road_length = 1000, car = Car()):\n",
    "        self.road_length = road_length\n",
    "        total_cars =30\n",
    "        self.car = car\n",
    "        \n",
    "     \n",
    "     \n",
    "    \n",
    "     def decelerate(self):\n",
    "        if random.random() < 0.1:\n",
    "            return True\n",
    "        else:\n",
    "            return False\n",
    "    \n",
    "     def accelerate(self):\n",
    "        for car in total_cars:\n",
    "            vehicle = 1\n",
    "            for x in total_cars:\n",
    "                if x == 0:\n",
    "                    car.speed = 0\n",
    "                elif self.decelerate() == True and (car.speed >0):\n",
    "                    car.speed -= 2\n",
    "                    car.location += car.speed\n",
    "                else:\n",
    "                    if car.speed <= (car.max_speed - 3):\n",
    "                        car.velocity += 2\n",
    "                car.location += car.speed\n",
    "                if car.location > self.road_length:\n",
    "                    car.location = 0\n",
    "                plt.scatter(car.location, car.speed)\n",
    "                plt.show\n",
    "         \n",
    "        vehicles +=1"
   ]
  },
  {
   "cell_type": "code",
   "execution_count": 4,
   "metadata": {
    "collapsed": false
   },
   "outputs": [
    {
     "ename": "NameError",
     "evalue": "name 'total_cars' is not defined",
     "output_type": "error",
     "traceback": [
      "\u001b[0;31m---------------------------------------------------------------------------\u001b[0m",
      "\u001b[0;31mNameError\u001b[0m                                 Traceback (most recent call last)",
      "\u001b[0;32m<ipython-input-4-83b2875deb85>\u001b[0m in \u001b[0;36m<module>\u001b[0;34m()\u001b[0m\n\u001b[1;32m      1\u001b[0m \u001b[0;34m\u001b[0m\u001b[0m\n\u001b[1;32m      2\u001b[0m \u001b[0mrun\u001b[0m\u001b[0;34m=\u001b[0m \u001b[0mRoad\u001b[0m\u001b[0;34m(\u001b[0m\u001b[0;36m1\u001b[0m\u001b[0;34m)\u001b[0m\u001b[0;34m\u001b[0m\u001b[0m\n\u001b[0;32m----> 3\u001b[0;31m \u001b[0mrun\u001b[0m\u001b[0;34m.\u001b[0m\u001b[0maccelerate\u001b[0m\u001b[0;34m(\u001b[0m\u001b[0;34m)\u001b[0m\u001b[0;34m\u001b[0m\u001b[0m\n\u001b[0m",
      "\u001b[0;32m<ipython-input-3-fbafb52d9308>\u001b[0m in \u001b[0;36maccelerate\u001b[0;34m(self)\u001b[0m\n\u001b[1;32m     19\u001b[0m \u001b[0;34m\u001b[0m\u001b[0m\n\u001b[1;32m     20\u001b[0m      \u001b[0;32mdef\u001b[0m \u001b[0maccelerate\u001b[0m\u001b[0;34m(\u001b[0m\u001b[0mself\u001b[0m\u001b[0;34m)\u001b[0m\u001b[0;34m:\u001b[0m\u001b[0;34m\u001b[0m\u001b[0m\n\u001b[0;32m---> 21\u001b[0;31m         \u001b[0;32mfor\u001b[0m \u001b[0mcar\u001b[0m \u001b[0;32min\u001b[0m \u001b[0mtotal_cars\u001b[0m\u001b[0;34m:\u001b[0m\u001b[0;34m\u001b[0m\u001b[0m\n\u001b[0m\u001b[1;32m     22\u001b[0m             \u001b[0mvehicle\u001b[0m \u001b[0;34m=\u001b[0m \u001b[0;36m1\u001b[0m\u001b[0;34m\u001b[0m\u001b[0m\n\u001b[1;32m     23\u001b[0m             \u001b[0;32mfor\u001b[0m \u001b[0mx\u001b[0m \u001b[0;32min\u001b[0m \u001b[0mtotal_cars\u001b[0m\u001b[0;34m:\u001b[0m\u001b[0;34m\u001b[0m\u001b[0m\n",
      "\u001b[0;31mNameError\u001b[0m: name 'total_cars' is not defined"
     ]
    }
   ],
   "source": [
    "\n",
    "run= Road(1)\n",
    "run.accelerate()\n"
   ]
  },
  {
   "cell_type": "code",
   "execution_count": null,
   "metadata": {
    "collapsed": true
   },
   "outputs": [],
   "source": []
  },
  {
   "cell_type": "code",
   "execution_count": null,
   "metadata": {
    "collapsed": true
   },
   "outputs": [],
   "source": []
  }
 ],
 "metadata": {
  "kernelspec": {
   "display_name": "Python 3",
   "language": "python",
   "name": "python3"
  },
  "language_info": {
   "codemirror_mode": {
    "name": "ipython",
    "version": 3
   },
   "file_extension": ".py",
   "mimetype": "text/x-python",
   "name": "python",
   "nbconvert_exporter": "python",
   "pygments_lexer": "ipython3",
   "version": "3.4.3"
  }
 },
 "nbformat": 4,
 "nbformat_minor": 0
}
