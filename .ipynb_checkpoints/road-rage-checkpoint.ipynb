{
 "cells": [
  {
   "cell_type": "code",
   "execution_count": 1,
   "metadata": {
    "collapsed": false
   },
   "outputs": [],
   "source": [
    "import math\n",
    "import matplotlib.pyplot as plt\n",
    "import numpy\n",
    "import statistics as st\n",
    "import random"
   ]
  },
  {
   "cell_type": "code",
   "execution_count": 4,
   "metadata": {
    "collapsed": false
   },
   "outputs": [],
   "source": [
    "class Car:\n",
    "# \"\"\"\n",
    "# Responsibilities:\n",
    "#     -measure velocity(min, max,rate) im meters, meters per second.\n",
    "#     -measure distance traveled and position(start,end,clock)\n",
    "#     -car size\n",
    "#     -number of cars\n",
    "    \n",
    "#         \"\"\"\n",
    "    def __init__(self):\n",
    "        self.min_speed = 0\n",
    "        self.max_speed = 30\n",
    "        self.length = 5\n",
    "        self.location= 0\n",
    "        self.clock =0\n",
    "    \n",
    "class Porsche(Car):\n",
    "    def change_speed(self):\n",
    "        self.\n",
    "    \n",
    "    \n",
    "    def move(self):\n",
    "        self.location += self\n",
    "        \n",
    "        "
   ]
  },
  {
   "cell_type": "code",
   "execution_count": null,
   "metadata": {
    "collapsed": true
   },
   "outputs": [],
   "source": [
    "Class Road:\n",
    "+Responsibilities-\n",
    "-hold cars \n",
    "-define road length\n",
    "-control speed triggers"
   ]
  }
 ],
 "metadata": {
  "kernelspec": {
   "display_name": "Python 3",
   "language": "python",
   "name": "python3"
  },
  "language_info": {
   "codemirror_mode": {
    "name": "ipython",
    "version": 3
   },
   "file_extension": ".py",
   "mimetype": "text/x-python",
   "name": "python",
   "nbconvert_exporter": "python",
   "pygments_lexer": "ipython3",
   "version": "3.4.3"
  }
 },
 "nbformat": 4,
 "nbformat_minor": 0
}
