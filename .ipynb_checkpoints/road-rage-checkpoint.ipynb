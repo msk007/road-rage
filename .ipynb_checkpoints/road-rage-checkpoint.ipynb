{
 "cells": [
  {
   "cell_type": "code",
   "execution_count": 9,
   "metadata": {
    "collapsed": false
   },
   "outputs": [],
   "source": [
    "import math\n",
    "import matplotlib.pyplot as plt\n",
    "import numpy\n",
    "import statistics as st\n",
    "import random"
   ]
  },
  {
   "cell_type": "code",
   "execution_count": 10,
   "metadata": {
    "collapsed": false
   },
   "outputs": [],
   "source": [
    "class Car:\n",
    "# \"\"\"\n",
    "# Responsibilities:\n",
    "#     -measure velocity(min, max,rate) im meters, meters per second.\n",
    "#     -measure distance traveled and position(start,end,clock)\n",
    "#     -car size\n",
    "#     -number of cars\n",
    "    \n",
    "#         \"\"\"\n",
    "    def __init__(self, min_speed = 0, max_speed = 30, length = 5, location = 0, clock = 0):\n",
    "        self.min_speed = min_speed\n",
    "        self.max_speed = max_speed\n",
    "        self.length = length\n",
    "        self.location= location\n",
    "        self.clock = clock\n",
    "    \n",
    "class Porsche(Car):\n",
    "    def change_speed(self, accel = 2 , brake_chance = .1):\n",
    "        self.accel = accel\n",
    "        self.brake_chance = brake_chance\n",
    "    \n",
    "    \n",
    "    def move(self):\n",
    "        self.location += self\n",
    "        \n",
    "        "
   ]
  },
  {
   "cell_type": "code",
   "execution_count": 13,
   "metadata": {
    "collapsed": false
   },
   "outputs": [
    {
     "ename": "SyntaxError",
     "evalue": "invalid syntax (<ipython-input-13-2e8a8aa98eb3>, line 6)",
     "output_type": "error",
     "traceback": [
      "\u001b[0;36m  File \u001b[0;32m\"<ipython-input-13-2e8a8aa98eb3>\"\u001b[0;36m, line \u001b[0;32m6\u001b[0m\n\u001b[0;31m    def\u001b[0m\n\u001b[0m       ^\u001b[0m\n\u001b[0;31mSyntaxError\u001b[0m\u001b[0;31m:\u001b[0m invalid syntax\n"
     ]
    }
   ],
   "source": [
    "class Road:\n",
    "# +Responsibilities-\n",
    "# -hold cars \n",
    "# -define road length\n",
    "# -control speed triggers\n",
    "    def"
   ]
  },
  {
   "cell_type": "code",
   "execution_count": null,
   "metadata": {
    "collapsed": true
   },
   "outputs": [],
   "source": []
  },
  {
   "cell_type": "code",
   "execution_count": null,
   "metadata": {
    "collapsed": true
   },
   "outputs": [],
   "source": []
  }
 ],
 "metadata": {
  "kernelspec": {
   "display_name": "Python 3",
   "language": "python",
   "name": "python3"
  },
  "language_info": {
   "codemirror_mode": {
    "name": "ipython",
    "version": 3
   },
   "file_extension": ".py",
   "mimetype": "text/x-python",
   "name": "python",
   "nbconvert_exporter": "python",
   "pygments_lexer": "ipython3",
   "version": "3.4.3"
  }
 },
 "nbformat": 4,
 "nbformat_minor": 0
}
